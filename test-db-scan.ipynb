{
 "cells": [
  {
   "cell_type": "code",
   "execution_count": 59,
   "metadata": {},
   "outputs": [],
   "source": [
    "import numpy as np\n",
    "import matplotlib.pyplot as plt\n",
    "import pandas as pd\n",
    "from sklearn.metrics import silhouette_score\n",
    "from sklearn.metrics import davies_bouldin_score\n",
    "from sklearn.decomposition import PCA\n",
    "from sklearn.preprocessing import StandardScaler\n",
    "from sklearn.preprocessing import MinMaxScaler\n",
    "\n",
    "#write a example dataset array good with db scan\n",
    "# data_example = np.array([[1, 2], [2, 2], [2, 3],[2.5,2.5],[5,7], [5,9], [6,8],[5.5,9.5],[10,10],[10,11],[11,11],[11,12],[11.5,11.5]])\n",
    "\n",
    "data = pd.read_csv('tracks_features.csv', nrows=100)\n",
    "# pca = PCA(n_components = 2)\n",
    "# X_pca = pca.fit_transform(data.iloc[:,6:23])\n"
   ]
  },
  {
   "cell_type": "code",
   "execution_count": 60,
   "metadata": {},
   "outputs": [
    {
     "data": {
      "text/html": [
       "<div>\n",
       "<style scoped>\n",
       "    .dataframe tbody tr th:only-of-type {\n",
       "        vertical-align: middle;\n",
       "    }\n",
       "\n",
       "    .dataframe tbody tr th {\n",
       "        vertical-align: top;\n",
       "    }\n",
       "\n",
       "    .dataframe thead th {\n",
       "        text-align: right;\n",
       "    }\n",
       "</style>\n",
       "<table border=\"1\" class=\"dataframe\">\n",
       "  <thead>\n",
       "    <tr style=\"text-align: right;\">\n",
       "      <th></th>\n",
       "      <th>id</th>\n",
       "      <th>name</th>\n",
       "      <th>album</th>\n",
       "      <th>album_id</th>\n",
       "      <th>artists</th>\n",
       "      <th>artist_ids</th>\n",
       "      <th>track_number</th>\n",
       "      <th>disc_number</th>\n",
       "      <th>explicit</th>\n",
       "      <th>danceability</th>\n",
       "      <th>...</th>\n",
       "      <th>speechiness</th>\n",
       "      <th>acousticness</th>\n",
       "      <th>instrumentalness</th>\n",
       "      <th>liveness</th>\n",
       "      <th>valence</th>\n",
       "      <th>tempo</th>\n",
       "      <th>duration_ms</th>\n",
       "      <th>time_signature</th>\n",
       "      <th>year</th>\n",
       "      <th>release_date</th>\n",
       "    </tr>\n",
       "  </thead>\n",
       "  <tbody>\n",
       "    <tr>\n",
       "      <th>0</th>\n",
       "      <td>7lmeHLHBe4nmXzuXc0HDjk</td>\n",
       "      <td>Testify</td>\n",
       "      <td>The Battle Of Los Angeles</td>\n",
       "      <td>2eia0myWFgoHuttJytCxgX</td>\n",
       "      <td>['Rage Against The Machine']</td>\n",
       "      <td>['2d0hyoQ5ynDBnkvAbJKORj']</td>\n",
       "      <td>1</td>\n",
       "      <td>1</td>\n",
       "      <td>False</td>\n",
       "      <td>0.470</td>\n",
       "      <td>...</td>\n",
       "      <td>0.0727</td>\n",
       "      <td>0.02610</td>\n",
       "      <td>0.000011</td>\n",
       "      <td>0.3560</td>\n",
       "      <td>0.503</td>\n",
       "      <td>117.906</td>\n",
       "      <td>210133</td>\n",
       "      <td>4.0</td>\n",
       "      <td>1999</td>\n",
       "      <td>1999-11-02</td>\n",
       "    </tr>\n",
       "    <tr>\n",
       "      <th>1</th>\n",
       "      <td>1wsRitfRRtWyEapl0q22o8</td>\n",
       "      <td>Guerrilla Radio</td>\n",
       "      <td>The Battle Of Los Angeles</td>\n",
       "      <td>2eia0myWFgoHuttJytCxgX</td>\n",
       "      <td>['Rage Against The Machine']</td>\n",
       "      <td>['2d0hyoQ5ynDBnkvAbJKORj']</td>\n",
       "      <td>2</td>\n",
       "      <td>1</td>\n",
       "      <td>True</td>\n",
       "      <td>0.599</td>\n",
       "      <td>...</td>\n",
       "      <td>0.1880</td>\n",
       "      <td>0.01290</td>\n",
       "      <td>0.000071</td>\n",
       "      <td>0.1550</td>\n",
       "      <td>0.489</td>\n",
       "      <td>103.680</td>\n",
       "      <td>206200</td>\n",
       "      <td>4.0</td>\n",
       "      <td>1999</td>\n",
       "      <td>1999-11-02</td>\n",
       "    </tr>\n",
       "    <tr>\n",
       "      <th>2</th>\n",
       "      <td>1hR0fIFK2qRG3f3RF70pb7</td>\n",
       "      <td>Calm Like a Bomb</td>\n",
       "      <td>The Battle Of Los Angeles</td>\n",
       "      <td>2eia0myWFgoHuttJytCxgX</td>\n",
       "      <td>['Rage Against The Machine']</td>\n",
       "      <td>['2d0hyoQ5ynDBnkvAbJKORj']</td>\n",
       "      <td>3</td>\n",
       "      <td>1</td>\n",
       "      <td>False</td>\n",
       "      <td>0.315</td>\n",
       "      <td>...</td>\n",
       "      <td>0.4830</td>\n",
       "      <td>0.02340</td>\n",
       "      <td>0.000002</td>\n",
       "      <td>0.1220</td>\n",
       "      <td>0.370</td>\n",
       "      <td>149.749</td>\n",
       "      <td>298893</td>\n",
       "      <td>4.0</td>\n",
       "      <td>1999</td>\n",
       "      <td>1999-11-02</td>\n",
       "    </tr>\n",
       "    <tr>\n",
       "      <th>3</th>\n",
       "      <td>2lbASgTSoDO7MTuLAXlTW0</td>\n",
       "      <td>Mic Check</td>\n",
       "      <td>The Battle Of Los Angeles</td>\n",
       "      <td>2eia0myWFgoHuttJytCxgX</td>\n",
       "      <td>['Rage Against The Machine']</td>\n",
       "      <td>['2d0hyoQ5ynDBnkvAbJKORj']</td>\n",
       "      <td>4</td>\n",
       "      <td>1</td>\n",
       "      <td>True</td>\n",
       "      <td>0.440</td>\n",
       "      <td>...</td>\n",
       "      <td>0.2370</td>\n",
       "      <td>0.16300</td>\n",
       "      <td>0.000004</td>\n",
       "      <td>0.1210</td>\n",
       "      <td>0.574</td>\n",
       "      <td>96.752</td>\n",
       "      <td>213640</td>\n",
       "      <td>4.0</td>\n",
       "      <td>1999</td>\n",
       "      <td>1999-11-02</td>\n",
       "    </tr>\n",
       "    <tr>\n",
       "      <th>4</th>\n",
       "      <td>1MQTmpYOZ6fcMQc56Hdo7T</td>\n",
       "      <td>Sleep Now In the Fire</td>\n",
       "      <td>The Battle Of Los Angeles</td>\n",
       "      <td>2eia0myWFgoHuttJytCxgX</td>\n",
       "      <td>['Rage Against The Machine']</td>\n",
       "      <td>['2d0hyoQ5ynDBnkvAbJKORj']</td>\n",
       "      <td>5</td>\n",
       "      <td>1</td>\n",
       "      <td>False</td>\n",
       "      <td>0.426</td>\n",
       "      <td>...</td>\n",
       "      <td>0.0701</td>\n",
       "      <td>0.00162</td>\n",
       "      <td>0.105000</td>\n",
       "      <td>0.0789</td>\n",
       "      <td>0.539</td>\n",
       "      <td>127.059</td>\n",
       "      <td>205600</td>\n",
       "      <td>4.0</td>\n",
       "      <td>1999</td>\n",
       "      <td>1999-11-02</td>\n",
       "    </tr>\n",
       "  </tbody>\n",
       "</table>\n",
       "<p>5 rows × 24 columns</p>\n",
       "</div>"
      ],
      "text/plain": [
       "                       id                   name                      album  \\\n",
       "0  7lmeHLHBe4nmXzuXc0HDjk                Testify  The Battle Of Los Angeles   \n",
       "1  1wsRitfRRtWyEapl0q22o8        Guerrilla Radio  The Battle Of Los Angeles   \n",
       "2  1hR0fIFK2qRG3f3RF70pb7       Calm Like a Bomb  The Battle Of Los Angeles   \n",
       "3  2lbASgTSoDO7MTuLAXlTW0              Mic Check  The Battle Of Los Angeles   \n",
       "4  1MQTmpYOZ6fcMQc56Hdo7T  Sleep Now In the Fire  The Battle Of Los Angeles   \n",
       "\n",
       "                 album_id                       artists  \\\n",
       "0  2eia0myWFgoHuttJytCxgX  ['Rage Against The Machine']   \n",
       "1  2eia0myWFgoHuttJytCxgX  ['Rage Against The Machine']   \n",
       "2  2eia0myWFgoHuttJytCxgX  ['Rage Against The Machine']   \n",
       "3  2eia0myWFgoHuttJytCxgX  ['Rage Against The Machine']   \n",
       "4  2eia0myWFgoHuttJytCxgX  ['Rage Against The Machine']   \n",
       "\n",
       "                   artist_ids  track_number  disc_number  explicit  \\\n",
       "0  ['2d0hyoQ5ynDBnkvAbJKORj']             1            1     False   \n",
       "1  ['2d0hyoQ5ynDBnkvAbJKORj']             2            1      True   \n",
       "2  ['2d0hyoQ5ynDBnkvAbJKORj']             3            1     False   \n",
       "3  ['2d0hyoQ5ynDBnkvAbJKORj']             4            1      True   \n",
       "4  ['2d0hyoQ5ynDBnkvAbJKORj']             5            1     False   \n",
       "\n",
       "   danceability  ...  speechiness  acousticness  instrumentalness  liveness  \\\n",
       "0         0.470  ...       0.0727       0.02610          0.000011    0.3560   \n",
       "1         0.599  ...       0.1880       0.01290          0.000071    0.1550   \n",
       "2         0.315  ...       0.4830       0.02340          0.000002    0.1220   \n",
       "3         0.440  ...       0.2370       0.16300          0.000004    0.1210   \n",
       "4         0.426  ...       0.0701       0.00162          0.105000    0.0789   \n",
       "\n",
       "   valence    tempo  duration_ms  time_signature  year  release_date  \n",
       "0    0.503  117.906       210133             4.0  1999    1999-11-02  \n",
       "1    0.489  103.680       206200             4.0  1999    1999-11-02  \n",
       "2    0.370  149.749       298893             4.0  1999    1999-11-02  \n",
       "3    0.574   96.752       213640             4.0  1999    1999-11-02  \n",
       "4    0.539  127.059       205600             4.0  1999    1999-11-02  \n",
       "\n",
       "[5 rows x 24 columns]"
      ]
     },
     "execution_count": 60,
     "metadata": {},
     "output_type": "execute_result"
    }
   ],
   "source": [
    "data.head()"
   ]
  },
  {
   "cell_type": "code",
   "execution_count": 61,
   "metadata": {},
   "outputs": [
    {
     "name": "stdout",
     "output_type": "stream",
     "text": [
      "<class 'pandas.core.frame.DataFrame'>\n",
      "RangeIndex: 100 entries, 0 to 99\n",
      "Data columns (total 24 columns):\n",
      " #   Column            Non-Null Count  Dtype  \n",
      "---  ------            --------------  -----  \n",
      " 0   id                100 non-null    object \n",
      " 1   name              100 non-null    object \n",
      " 2   album             100 non-null    object \n",
      " 3   album_id          100 non-null    object \n",
      " 4   artists           100 non-null    object \n",
      " 5   artist_ids        100 non-null    object \n",
      " 6   track_number      100 non-null    int64  \n",
      " 7   disc_number       100 non-null    int64  \n",
      " 8   explicit          100 non-null    bool   \n",
      " 9   danceability      100 non-null    float64\n",
      " 10  energy            100 non-null    float64\n",
      " 11  key               100 non-null    int64  \n",
      " 12  loudness          100 non-null    float64\n",
      " 13  mode              100 non-null    int64  \n",
      " 14  speechiness       100 non-null    float64\n",
      " 15  acousticness      100 non-null    float64\n",
      " 16  instrumentalness  100 non-null    float64\n",
      " 17  liveness          100 non-null    float64\n",
      " 18  valence           100 non-null    float64\n",
      " 19  tempo             100 non-null    float64\n",
      " 20  duration_ms       100 non-null    int64  \n",
      " 21  time_signature    100 non-null    float64\n",
      " 22  year              100 non-null    int64  \n",
      " 23  release_date      100 non-null    object \n",
      "dtypes: bool(1), float64(10), int64(6), object(7)\n",
      "memory usage: 18.2+ KB\n"
     ]
    }
   ],
   "source": [
    "data.info()"
   ]
  },
  {
   "cell_type": "code",
   "execution_count": 62,
   "metadata": {},
   "outputs": [],
   "source": [
    "#preprocessing data\n",
    "# columns_to_scale = ['danceability', 'energy']\n",
    "# scaler = StandardScaler()\n",
    "# scaler.fit(data[columns_to_scale])\n",
    "# data_scaled = data.copy()\n",
    "# data_scaled[columns_to_scale] = scaler.transform(data[columns_to_scale])\n",
    "\n",
    "columns_to_scale = ['danceability', 'energy']\n",
    "scaler = MinMaxScaler()\n",
    "scaler.fit(data[columns_to_scale])\n",
    "data_scaled = data.copy()\n",
    "data_scaled[columns_to_scale] = scaler.transform(data[columns_to_scale])\n",
    "\n",
    "\n",
    "# data_pca_scaled = scaler.fit_transform(X_pca)"
   ]
  },
  {
   "cell_type": "code",
   "execution_count": 63,
   "metadata": {},
   "outputs": [
    {
     "data": {
      "text/plain": [
       "array([[0.34829443, 1.        ],\n",
       "       [0.57989228, 0.97535211],\n",
       "       [0.07001795, 0.99061033],\n",
       "       [0.29443447, 0.9870892 ],\n",
       "       [0.26929982, 0.94248826],\n",
       "       [0.03949731, 0.84741784],\n",
       "       [0.25314183, 0.99765258],\n",
       "       [0.00179533, 0.87676056],\n",
       "       [0.2962298 , 0.88732394],\n",
       "       [0.30879713, 0.86267606],\n",
       "       [0.32315978, 0.67840376],\n",
       "       [0.22082585, 0.98474178],\n",
       "       [0.36265709, 0.8556338 ],\n",
       "       [0.32495512, 0.76643192],\n",
       "       [0.47755835, 0.84037559],\n",
       "       [0.43087971, 0.47769953],\n",
       "       [0.25493716, 0.79812207],\n",
       "       [0.53500898, 0.75      ],\n",
       "       [0.24236984, 0.81807512],\n",
       "       [0.43806104, 0.73826291],\n",
       "       [0.4470377 , 0.5528169 ],\n",
       "       [0.40035907, 0.57159624],\n",
       "       [0.91741472, 0.91197183],\n",
       "       [0.55834829, 0.97652582],\n",
       "       [0.51885099, 0.76877934],\n",
       "       [0.67324955, 0.51760563],\n",
       "       [1.        , 0.79694836],\n",
       "       [0.90843806, 0.5786385 ],\n",
       "       [0.59066427, 0.93309859],\n",
       "       [0.72351885, 0.89788732],\n",
       "       [0.59964093, 0.72535211],\n",
       "       [0.77019749, 0.75469484],\n",
       "       [0.88689408, 0.49765258],\n",
       "       [0.60143627, 0.56807512],\n",
       "       [0.94075404, 0.5       ],\n",
       "       [0.56912029, 0.96713615],\n",
       "       [0.59964093, 0.88849765],\n",
       "       [0.83482944, 0.59389671],\n",
       "       [0.66247756, 0.45422535],\n",
       "       [0.65529623, 0.37441315],\n",
       "       [0.47935368, 0.50938967],\n",
       "       [0.88689408, 0.74061033],\n",
       "       [0.88689408, 0.19014085],\n",
       "       [0.79174147, 0.57511737],\n",
       "       [0.51705566, 0.3157277 ],\n",
       "       [0.92280072, 0.82629108],\n",
       "       [0.48294434, 0.66079812],\n",
       "       [0.43985637, 0.80751174],\n",
       "       [0.75583483, 0.12676056],\n",
       "       [0.25314183, 0.28051643],\n",
       "       [0.75224417, 0.21830986],\n",
       "       [0.5529623 , 0.56924883],\n",
       "       [0.51346499, 0.20774648],\n",
       "       [0.50807899, 0.21948357],\n",
       "       [0.32854578, 0.24413146],\n",
       "       [0.60502693, 0.1971831 ],\n",
       "       [0.52423698, 0.21244131],\n",
       "       [0.46678636, 0.10915493],\n",
       "       [0.55655296, 0.72300469],\n",
       "       [0.53859964, 0.43192488],\n",
       "       [0.59066427, 0.39553991],\n",
       "       [0.497307  , 0.33685446],\n",
       "       [0.46140036, 0.22652582],\n",
       "       [0.30879713, 0.53755869],\n",
       "       [0.33931777, 0.29225352],\n",
       "       [0.39497307, 0.02816901],\n",
       "       [0.73429084, 0.35915493],\n",
       "       [0.72172352, 0.42723005],\n",
       "       [0.56552962, 0.20305164],\n",
       "       [0.56732496, 0.49765258],\n",
       "       [0.32854578, 0.32276995],\n",
       "       [0.37522442, 0.19835681],\n",
       "       [0.49192101, 0.63028169],\n",
       "       [0.61400359, 0.33920188],\n",
       "       [0.3016158 , 0.31220657],\n",
       "       [0.32495512, 0.42723005],\n",
       "       [0.        , 0.11502347],\n",
       "       [0.81328546, 0.54107981],\n",
       "       [0.90125673, 0.47300469],\n",
       "       [0.50628366, 0.22652582],\n",
       "       [0.49012567, 0.04225352],\n",
       "       [0.58527828, 0.65610329],\n",
       "       [0.67863555, 0.157277  ],\n",
       "       [0.74506284, 0.16549296],\n",
       "       [0.63016158, 0.        ],\n",
       "       [0.26929982, 0.00821596],\n",
       "       [0.15439856, 0.21126761],\n",
       "       [0.22621185, 0.01760563],\n",
       "       [0.18312388, 0.83215962],\n",
       "       [0.37342908, 0.72887324],\n",
       "       [0.1005386 , 0.62206573],\n",
       "       [0.18312388, 0.90258216],\n",
       "       [0.07181329, 0.92723005],\n",
       "       [0.41831239, 0.55985915],\n",
       "       [0.48833034, 0.96596244],\n",
       "       [0.64093357, 0.91666667],\n",
       "       [0.60861759, 0.90140845],\n",
       "       [0.53141831, 0.98943662],\n",
       "       [0.58527828, 0.9213615 ],\n",
       "       [0.51705566, 0.96361502]])"
      ]
     },
     "execution_count": 63,
     "metadata": {},
     "output_type": "execute_result"
    }
   ],
   "source": [
    "X = data_scaled.iloc[:, [9,10]].values\n",
    "X\n",
    "# X = data_pca_scaled\n",
    "# X"
   ]
  },
  {
   "attachments": {},
   "cell_type": "markdown",
   "metadata": {},
   "source": [
    "Calculate the parameters"
   ]
  },
  {
   "cell_type": "code",
   "execution_count": 64,
   "metadata": {},
   "outputs": [],
   "source": [
    "from sklearn.neighbors import NearestNeighbors # importing the library\n",
    "no_neighbors = 4 # setting the number of neighbors\n",
    "neighb = NearestNeighbors(n_neighbors=no_neighbors) # creating an object of the NearestNeighbors class\n",
    "nbrs=neighb.fit(X) # fitting the data to the object\n",
    "distances,indices=nbrs.kneighbors(X) # finding the nearest neighbours"
   ]
  },
  {
   "cell_type": "code",
   "execution_count": 65,
   "metadata": {},
   "outputs": [
    {
     "data": {
      "image/png": "[encoded data removed]",
      "text/plain": [
       "<Figure size 500x300 with 1 Axes>"
      ]
     },
     "metadata": {},
     "output_type": "display_data"
    }
   ],
   "source": [
    "# Sort and plot the distances results\n",
    "distances = np.sort(distances, axis = 0) # sorting the distances\n",
    "distances = distances[:, 1] # taking the second column of the sorted distances\n",
    "plt.rcParams['figure.figsize'] = (5,3) # setting the figure size\n",
    "plt.plot(distances) # plotting the distances\n",
    "plt.show() # showing the plot"
   ]
  },
  {
   "cell_type": "code",
   "execution_count": 66,
   "metadata": {},
   "outputs": [
    {
     "data": {
      "text/plain": [
       "0.09618935097178463"
      ]
     },
     "execution_count": 66,
     "metadata": {},
     "output_type": "execute_result"
    }
   ],
   "source": [
    "from kneed import KneeLocator\n",
    "kneedle = KneeLocator(x = range(1, len(distances)+1), y = distances, S = 1.0, \n",
    "                      curve = \"concave\", direction = \"increasing\", online=True)\n",
    "\n",
    "# get the estimate of knee point\n",
    "kneedle.knee_y"
   ]
  },
  {
   "cell_type": "code",
   "execution_count": 67,
   "metadata": {},
   "outputs": [
    {
     "data": {
      "image/png": "[encoded data removed]",
      "text/plain": [
       "<Figure size 600x600 with 1 Axes>"
      ]
     },
     "metadata": {},
     "output_type": "display_data"
    }
   ],
   "source": [
    "kneedle.plot_knee()\n",
    "plt.show()"
   ]
  },
  {
   "attachments": {},
   "cell_type": "markdown",
   "metadata": {},
   "source": [
    "minPoints = 18\n",
    "Eps = 5"
   ]
  },
  {
   "attachments": {},
   "cell_type": "markdown",
   "metadata": {},
   "source": [
    "Implementing DBScan"
   ]
  },
  {
   "cell_type": "code",
   "execution_count": 68,
   "metadata": {},
   "outputs": [
    {
     "data": {
      "text/plain": [
       "array([ 1,  0,  7,  1,  1,  7,  1,  7,  1,  1,  1,  1,  1,  1,  1,  1,  1,\n",
       "        1,  1,  1,  1,  1,  4,  0,  1,  1,  4,  2,  0,  0,  1, -1,  2,  1,\n",
       "        2,  0,  0,  2,  3,  3,  1,  4, -1,  2,  5,  4,  1,  1,  5,  6,  5,\n",
       "        1,  5,  5,  6,  5,  5, -1,  1,  1,  3, -1,  5, -1,  6, -1,  3,  3,\n",
       "        5,  1,  6,  5,  1,  3,  6, -1, -1,  2,  2,  5, -1,  1,  5,  5, -1,\n",
       "       -1, -1, -1,  1,  1, -1,  1,  7,  1,  0,  0,  0,  0,  0,  0],\n",
       "      dtype=int64)"
      ]
     },
     "execution_count": 68,
     "metadata": {},
     "output_type": "execute_result"
    }
   ],
   "source": [
    "from sklearn.cluster import DBSCAN\n",
    "# cluster the data into five clusters\n",
    "dbscan = DBSCAN(eps = 0.096, min_samples = 4).fit(X) # fitting the model\n",
    "Y = dbscan.fit_predict(X) # getting the predicted values\n",
    "labels = dbscan.labels_ # getting the labels\n",
    "labels\n"
   ]
  },
  {
   "cell_type": "code",
   "execution_count": 69,
   "metadata": {},
   "outputs": [
    {
     "data": {
      "image/png": "[encoded data removed]",
      "text/plain": [
       "<Figure size 500x300 with 1 Axes>"
      ]
     },
     "metadata": {},
     "output_type": "display_data"
    }
   ],
   "source": [
    "# Plot the clusters\n",
    "plt.scatter(X[:, 0], X[:,1], c = labels, cmap= \"plasma\") # plotting the clusters\n",
    "plt.xlabel(\"Dancability\") # X-axis label\n",
    "plt.ylabel(\"Energy\") # Y-axis label\n",
    "plt.show() # showing the plot"
   ]
  },
  {
   "attachments": {},
   "cell_type": "markdown",
   "metadata": {},
   "source": [
    "Davies Bouldin Index"
   ]
  },
  {
   "cell_type": "code",
   "execution_count": 71,
   "metadata": {},
   "outputs": [
    {
     "data": {
      "text/plain": [
       "1.6126341902821975"
      ]
     },
     "execution_count": 71,
     "metadata": {},
     "output_type": "execute_result"
    }
   ],
   "source": [
    "davies_bouldin_score(X, labels)"
   ]
  },
  {
   "attachments": {},
   "cell_type": "markdown",
   "metadata": {},
   "source": [
    "Silhouette"
   ]
  },
  {
   "cell_type": "code",
   "execution_count": 70,
   "metadata": {},
   "outputs": [
    {
     "data": {
      "text/plain": [
       "0.1913279560112543"
      ]
     },
     "execution_count": 70,
     "metadata": {},
     "output_type": "execute_result"
    }
   ],
   "source": [
    "silhouette_score(X, labels)\n"
   ]
  }
 ],
 "metadata": {
  "kernelspec": {
   "display_name": "Python 3",
   "language": "python",
   "name": "python3"
  },
  "language_info": {
   "codemirror_mode": {
    "name": "ipython",
    "version": 3
   },
   "file_extension": ".py",
   "mimetype": "text/x-python",
   "name": "python",
   "nbconvert_exporter": "python",
   "pygments_lexer": "ipython3",
   "version": "3.10.5"
  },
  "orig_nbformat": 4
 },
 "nbformat": 4,
 "nbformat_minor": 2
}
